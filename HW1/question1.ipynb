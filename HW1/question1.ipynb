{
 "cells": [
  {
   "cell_type": "code",
   "execution_count": 1,
   "metadata": {},
   "outputs": [],
   "source": [
    "import numpy as np\n",
    "import math\n",
    "import matplotlib.pyplot as plt\n",
    "\n",
    "\n",
    "A = 0.025              #mm^2 \n",
    "cm = 10.0     #nF/mm^2 \n",
    "rm = 1.0    #MOhm*mm^2\n",
    "E_rest = -70.0      #mV \n",
    "V = -65.0           #mV \n",
    "V_target = -67.0    #mV"
   ]
  },
  {
   "cell_type": "code",
   "execution_count": 2,
   "metadata": {},
   "outputs": [
    {
     "name": "stdout",
     "output_type": "stream",
     "text": [
      "Total Membrane Capacitance (Cm): 0.25 nF\n"
     ]
    }
   ],
   "source": [
    "#Total Membrane Capacitance\n",
    "C_m_total = cm * A\n",
    "print(f\"Total Membrane Capacitance (Cm): {C_m_total} nF\")"
   ]
  },
  {
   "cell_type": "code",
   "execution_count": 3,
   "metadata": {},
   "outputs": [
    {
     "name": "stdout",
     "output_type": "stream",
     "text": [
      "Total Membrane Resistance (Rm): 40.0 MOhm\n"
     ]
    }
   ],
   "source": [
    "#Total Membrane Resistance\n",
    "R_m_total = rm / A\n",
    "print(f\"Total Membrane Resistance (Rm): {R_m_total} MOhm\")"
   ]
  },
  {
   "cell_type": "code",
   "execution_count": 4,
   "metadata": {},
   "outputs": [
    {
     "name": "stdout",
     "output_type": "stream",
     "text": [
      "Membrane Time Constant (tau_m): 10.0 ms\n"
     ]
    }
   ],
   "source": [
    "# (c) Membrane Time Constant\n",
    "tau_m = R_m_total * C_m_total\n",
    "print(f\"Membrane Time Constant (tau_m): {tau_m} ms\")"
   ]
  },
  {
   "cell_type": "code",
   "execution_count": 5,
   "metadata": {},
   "outputs": [
    {
     "name": "stdout",
     "output_type": "stream",
     "text": [
      "Holding Current (I_e): 0.125 nA\n"
     ]
    }
   ],
   "source": [
    "# (d) External Current to Hold Potential at -65 mV (I_e)\n",
    "I_e = (V - E_rest) / R_m_total\n",
    "print(f\"Holding Current (I_e): {I_e} nA\")"
   ]
  },
  {
   "cell_type": "code",
   "execution_count": 13,
   "metadata": {},
   "outputs": [
    {
     "name": "stdout",
     "output_type": "stream",
     "text": [
      "Time to reach -67.0 mV: 9.163 ms\n"
     ]
    }
   ],
   "source": [
    "# (e) Time to Reach -67 mV\n",
    "V_initial = E_rest\n",
    "V_final = V\n",
    "\n",
    "ratio = (V_final - V_target) / (V_final - E_rest)\n",
    "time = -(tau_m * math.log(ratio))\n",
    "\n",
    "print(f\"Time to reach -67.0 mV: {time:.3f} ms\")"
   ]
  }
 ],
 "metadata": {
  "kernelspec": {
   "display_name": "base",
   "language": "python",
   "name": "python3"
  },
  "language_info": {
   "codemirror_mode": {
    "name": "ipython",
    "version": 3
   },
   "file_extension": ".py",
   "mimetype": "text/x-python",
   "name": "python",
   "nbconvert_exporter": "python",
   "pygments_lexer": "ipython3",
   "version": "3.11.7"
  }
 },
 "nbformat": 4,
 "nbformat_minor": 2
}
